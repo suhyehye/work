{
 "cells": [
  {
   "cell_type": "code",
   "execution_count": null,
   "metadata": {},
   "outputs": [],
   "source": [
    "import json\n",
    "import os\n",
    "import shutil\n",
    "import glob"
   ]
  },
  {
   "cell_type": "code",
   "execution_count": null,
   "metadata": {},
   "outputs": [],
   "source": [
    "box_datas = glob.glob(r'C:\\Users\\alchera\\Desktop\\Naver_landmark\\test_04.27\\test_38\\*_box.json')\n",
    "print(box_datas)\n",
    "json_files = glob.glob(r'C:\\Users\\alchera\\Desktop\\Naver_landmark\\test_04.27\\test_38\\*_eye.json')\n",
    "print(json_files)"
   ]
  },
  {
   "cell_type": "code",
   "execution_count": null,
   "metadata": {},
   "outputs": [],
   "source": [
    "#box값 변경 찐 최종\n",
    "box_datas = glob.glob(r'C:\\Users\\alchera\\Desktop\\Naver_landmark\\test_04.27\\test_134\\*_box.json')\n",
    "json_files = glob.glob(r'C:\\Users\\alchera\\Desktop\\Naver_landmark\\test_04.27\\test_134\\*_extra.json')\n",
    "\n",
    "\n",
    "for box_data_file in box_datas:\n",
    "    with open(box_data_file, \"r\") as f:\n",
    "        box_data = json.load(f)\n",
    "        x = float(box_data['box'][0]['points']['x'])\n",
    "        y = float(box_data['box'][0]['points']['y'])\n",
    "        x2 = float(box_data['box'][1]['points']['x'])\n",
    "        y2 = float(box_data['box'][1]['points']['y'])\n",
    "        w = x2-x\n",
    "        h = y2-y\n",
    "        box_dict = {'x':x,\n",
    "                   'y':y,\n",
    "                   'h':h,\n",
    "                   'w':w}\n",
    "        \n",
    "\n",
    "        box_data_file_name = box_data_file.split(\"\\\\\")[-1][:-9]\n",
    "        \n",
    "       \n",
    "\n",
    "        for json_file in json_files:\n",
    "            with open(json_file,'r') as f:\n",
    "                \n",
    "                json_data = json.load(f)\n",
    "\n",
    "                json_data_file_name = json_file.split(\"\\\\\")[-1][:-11]\n",
    "\n",
    "             \n",
    "                points = json_data['points']\n",
    "\n",
    "                \n",
    "                    \n",
    "                my_list = []\n",
    "                for i in points:\n",
    "                    landmark = []\n",
    "                    x = float(i['points']['x'])\n",
    "                    y = float(i['points']['y'])\n",
    "                    landmark.append(x)\n",
    "                    landmark.append(y)\n",
    "                    landmark.append(0)\n",
    "                    my_list.append(landmark)\n",
    "\n",
    "               \n",
    "                if json_data_file_name == box_data_file_name:\n",
    "                    my_dict = [{\n",
    "                        \"box\":box_dict,\n",
    "                        'points':my_list\n",
    "                    }] \n",
    "                    \n",
    "                    print(my_dict)\n",
    "\n",
    "                    with open(r'C:\\Users\\alchera\\Desktop\\Naver_landmark\\test_04.27\\tool\\134\\{}.alchera.json'.format(json_data_file_name),'w') as make_file:\n",
    "                        json.dump(my_dict,make_file,ensure_ascii=False, indent=4)"
   ]
  },
  {
   "cell_type": "code",
   "execution_count": null,
   "metadata": {},
   "outputs": [],
   "source": []
  }
 ],
 "metadata": {
  "interpreter": {
   "hash": "4b28e743c8e733b4a0b70046c1ef162079f3fd0c39983f7d2bf0392a4b5917cb"
  },
  "kernelspec": {
   "display_name": "Python 3.9.12 64-bit (windows store)",
   "language": "python",
   "name": "python3"
  },
  "language_info": {
   "codemirror_mode": {
    "name": "ipython",
    "version": 3
   },
   "file_extension": ".py",
   "mimetype": "text/x-python",
   "name": "python",
   "nbconvert_exporter": "python",
   "pygments_lexer": "ipython3",
   "version": "3.9.12"
  },
  "orig_nbformat": 4
 },
 "nbformat": 4,
 "nbformat_minor": 2
}
