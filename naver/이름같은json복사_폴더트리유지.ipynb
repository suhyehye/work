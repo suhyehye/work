{
 "cells": [
  {
   "cell_type": "code",
   "execution_count": 1,
   "metadata": {},
   "outputs": [],
   "source": [
    "import random\n",
    "import shutil\n",
    "import json\n",
    "import os\n",
    "import glob"
   ]
  },
  {
   "cell_type": "code",
   "execution_count": 21,
   "metadata": {},
   "outputs": [],
   "source": [
    "jpg_folder = r'E:\\Naver_Landmarks\\03.작업대상_new_v2\\train'"
   ]
  },
  {
   "cell_type": "code",
   "execution_count": 22,
   "metadata": {},
   "outputs": [],
   "source": [
    "json_folder = r'E:\\Naver_Landmarks\\json\\out_train\\134pt'"
   ]
  },
  {
   "cell_type": "code",
   "execution_count": 24,
   "metadata": {},
   "outputs": [],
   "source": [
    "for (jpg_root, jpg_directories, jpg_files) in os.walk(jpg_folder):\n",
    "    for jpg_file in jpg_files:\n",
    "        if '.jpg' in jpg_file:\n",
    "            jpg_file_path = os.path.join(jpg_root, jpg_file)\n",
    "            jpg_file_name = jpg_file_path.split('\\\\')[-1]\n",
    "            jpg = jpg_file_name[:-4]\n",
    "\n",
    "\n",
    "            for (json_root, json_directories, json_files) in os.walk(json_folder):\n",
    "                for json_file in json_files:\n",
    "                    json_file_path = os.path.join(json_root,json_file)\n",
    "                    json_file_name = json_file_path.split('\\\\')[-1]\n",
    "                    json_name = json_file_name[:-5]\n",
    "\n",
    "                    if json_name == jpg:\n",
    "                        save_name = json_name + \".alchera.json\"\n",
    "                        save_dir = os.path.join(jpg_root,save_name)\n",
    "                        shutil.copy(json_file_path,save_dir)\n",
    "\n",
    "\n"
   ]
  },
  {
   "cell_type": "code",
   "execution_count": null,
   "metadata": {},
   "outputs": [],
   "source": []
  }
 ],
 "metadata": {
  "interpreter": {
   "hash": "dca6b71ca2b8dc2fd8f5a1cf2ce4f113d97390483462dfd41e1db75eb69b9e56"
  },
  "kernelspec": {
   "display_name": "Python 3.8.1 64-bit",
   "language": "python",
   "name": "python3"
  },
  "language_info": {
   "codemirror_mode": {
    "name": "ipython",
    "version": 3
   },
   "file_extension": ".py",
   "mimetype": "text/x-python",
   "name": "python",
   "nbconvert_exporter": "python",
   "pygments_lexer": "ipython3",
   "version": "3.8.1"
  },
  "orig_nbformat": 4
 },
 "nbformat": 4,
 "nbformat_minor": 2
}
