{
 "cells": [
  {
   "cell_type": "code",
   "execution_count": null,
   "metadata": {},
   "outputs": [],
   "source": [
    "import pandas as pd\n",
    "import numpy as np\n",
    "import json\n",
    "import os\n",
    "import glob\n",
    "import shutil"
   ]
  },
  {
   "cell_type": "code",
   "execution_count": null,
   "metadata": {},
   "outputs": [],
   "source": [
    "pt_files = glob.glob(r'C:\\Users\\alchera\\Desktop\\lanmark_new\\03.작업대상_new\\99.viet\\106-points_pt_txt\\done\\00.train\\106-points_VIET\\*\\*.pt')\n",
    "print(len(pt_files))\n",
    "print(pt_files[:10])\n"
   ]
  },
  {
   "cell_type": "code",
   "execution_count": null,
   "metadata": {},
   "outputs": [],
   "source": [
    "txt_files = glob.glob(r'C:\\Users\\alchera\\Desktop\\lanmark_new\\03.작업대상_new\\99.viet\\106-points_pt_txt\\done\\00.train\\106-points_VIET\\*\\*.txt')\n",
    "print(len(txt_files))"
   ]
  },
  {
   "cell_type": "code",
   "execution_count": null,
   "metadata": {},
   "outputs": [],
   "source": [
    "jpg_files = glob.glob(r'C:\\Users\\alchera\\Desktop\\lanmark_new\\03.작업대상_new\\99.viet\\106-points_pt_txt\\done\\00.train\\106-points_VIET\\*\\*.jpg')\n",
    "print(len(jpg_files))"
   ]
  },
  {
   "cell_type": "code",
   "execution_count": null,
   "metadata": {},
   "outputs": [],
   "source": [
    "for pt_file in pt_files:\n",
    "     with open(pt_file, 'r', encoding='utf-8') as f:\n",
    "        data = f.read().split('\\n')\n",
    "        pt_data_list = data[1:107]\n",
    "        \n",
    "\n",
    "        my_list = []\n",
    "\n",
    "        for i in pt_data_list:\n",
    "           list_1 = []\n",
    "           x = i.split('\\t')[0]\n",
    "           y = i.split('\\t')[1]\n",
    "           \n",
    "           list_1.append(x)\n",
    "           list_1.append(y)\n",
    "           list_1.append(0)\n",
    "           my_list.append(list_1)\n",
    "        print(pt_file,my_list)\n",
    "\n",
    "         \n",
    "\n",
    "\n",
    "\n"
   ]
  },
  {
   "cell_type": "code",
   "execution_count": null,
   "metadata": {},
   "outputs": [],
   "source": [
    "for txt_file in txt_files:\n",
    "    with open(txt_file, 'r', encoding='utf-8') as f:\n",
    "        data = f.read().split('\\n')\n",
    "        x = data[0]\n",
    "        y = data[1]\n",
    "        w = data[2]\n",
    "        h = data[3]\n",
    "\n",
    "        txt_dict = {'x':x,\n",
    "        'y':y,\n",
    "        'w':w,\n",
    "        'h':h}\n",
    "        print(txt_dict)\n",
    "    \n",
    "        "
   ]
  },
  {
   "cell_type": "code",
   "execution_count": null,
   "metadata": {},
   "outputs": [],
   "source": [
    "for pt_file in pt_files:\n",
    "    pt_file_name = pt_file.split('\\\\')[-1][:-3]\n",
    "    for txt_file in txt_files:\n",
    "        txt_file_name = txt_file.split('\\\\')[-1][:-4]\n",
    "\n",
    "        if pt_file_name == txt_file_name:\n",
    "            \n",
    "            with open(pt_file, 'r', encoding='utf-8') as pt_f:\n",
    "                pt_data = pt_f.read().split('\\n')\n",
    "                pt_data_list = pt_data[1:107]\n",
    "        \n",
    "\n",
    "                my_list = []\n",
    "\n",
    "                for i in pt_data_list:\n",
    "                    list_1 = []\n",
    "                    x = i.split('\\t')[0]\n",
    "                    y = i.split('\\t')[1]\n",
    "\n",
    "                    list_1.append(float(x))\n",
    "                    list_1.append(float(y))\n",
    "                    list_1.append(0)\n",
    "                    my_list.append(list_1)\n",
    "                \n",
    "\n",
    "            with open(txt_file, 'r', encoding='utf-8') as f:\n",
    "                data = f.read().split(' ')\n",
    "                x = data[0]\n",
    "                y = data[1]\n",
    "                w = data[2]\n",
    "                h = data[3]\n",
    "\n",
    "                if h == \"*\\n\":\n",
    "                    h = h[:-2]\n",
    "                \n",
    "\n",
    "                txt_dict = {'x':int(x),\n",
    "                'y':int(y),\n",
    "                'w':int(w),\n",
    "                'h':int(h)}\n",
    "                \n",
    "\n",
    "            json_list = [\n",
    "                {'box':txt_dict,\n",
    "                'points':my_list}\n",
    "            ]\n",
    "            \n",
    "\n",
    "            with open(r'C:\\Users\\alchera\\Desktop\\lanmark_new\\00.train_json\\{}.alchera.json'.format(pt_file_name),'w') as make_file:\n",
    "                    json.dump(json_list,make_file,ensure_ascii=False, indent=4)\n",
    "    \n",
    "            \n",
    "\n"
   ]
  },
  {
   "cell_type": "code",
   "execution_count": null,
   "metadata": {},
   "outputs": [],
   "source": [
    "#jpg 복사\n",
    "for jpg_file in jpg_files:\n",
    "    shutil.copy2(jpg_file,r'C:\\Users\\alchera\\Desktop\\lanmark_new\\json수정예시')"
   ]
  },
  {
   "cell_type": "code",
   "execution_count": null,
   "metadata": {},
   "outputs": [],
   "source": [
    "for pt_file in pt_files:\n",
    "    pt_file_name = pt_file.split('\\\\')[-1][:-3]\n",
    "    for txt_file in txt_files:\n",
    "        txt_file_name = txt_file.split('\\\\')[-1][:-4]\n",
    "\n",
    "        if pt_file_name == txt_file_name:\n",
    "            \n",
    "            with open(pt_file, 'r', encoding='utf-8') as pt_f:\n",
    "                pt_data = pt_f.read().split('\\n')\n",
    "                pt_data_list = pt_data[1:107]\n",
    "        \n",
    "\n",
    "                my_list = []\n",
    "\n",
    "                for i in pt_data_list:\n",
    "                    list_1 = []\n",
    "                    x = i.split('\\t')[0]\n",
    "                    y = i.split('\\t')[1]\n",
    "\n",
    "                    list_1.append(float(x))\n",
    "                    list_1.append(float(y))\n",
    "                    list_1.append(0)\n",
    "                    my_list.append(list_1)\n",
    "                \n",
    "\n",
    "            with open(txt_file, 'r', encoding='utf-8') as f:\n",
    "                data = f.read().split(' ')[:4]\n",
    "                x = data[0]\n",
    "                y = data[1]\n",
    "                w = data[2]\n",
    "                h = data[3]\n",
    "\n",
    "               \n",
    "                \n",
    "\n",
    "                txt_dict = {'x':int(x),\n",
    "                'y':int(y),\n",
    "                'w':int(w),\n",
    "                'h':int(h)}\n",
    "                \n",
    "\n",
    "            json_list = [\n",
    "                {'box':txt_dict,\n",
    "                'points':my_list}\n",
    "            ]\n",
    "            \n",
    "            print(pt_file,json_list)"
   ]
  },
  {
   "cell_type": "code",
   "execution_count": null,
   "metadata": {},
   "outputs": [],
   "source": []
  }
 ],
 "metadata": {
  "interpreter": {
   "hash": "4b28e743c8e733b4a0b70046c1ef162079f3fd0c39983f7d2bf0392a4b5917cb"
  },
  "kernelspec": {
   "display_name": "Python 3.9.12 64-bit (windows store)",
   "language": "python",
   "name": "python3"
  },
  "language_info": {
   "codemirror_mode": {
    "name": "ipython",
    "version": 3
   },
   "file_extension": ".py",
   "mimetype": "text/x-python",
   "name": "python",
   "nbconvert_exporter": "python",
   "pygments_lexer": "ipython3",
   "version": "3.9.12"
  },
  "orig_nbformat": 4
 },
 "nbformat": 4,
 "nbformat_minor": 2
}
