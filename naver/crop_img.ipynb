{
 "cells": [
  {
   "cell_type": "code",
   "execution_count": 7,
   "metadata": {},
   "outputs": [],
   "source": [
    "import cv2, numpy as np\n",
    "import os"
   ]
  },
  {
   "cell_type": "code",
   "execution_count": 5,
   "metadata": {},
   "outputs": [],
   "source": [
    "img = cv2.imread(r'C:\\Users\\alchera\\Desktop\\lanmark_new\\test\\0_Parade_marchingband_1_116.jpg')\n",
    "x,y,w,h = cv2.selectROI('img', img, False)\n",
    "if w and h:\n",
    "    roi = img[y:y+h, x:x+w]\n",
    "    cv2.imshow('cropped', roi)                   # ROI 지정 영역을 새창으로 표시\n",
    "    cv2.moveWindow('cropped', 0, 0)              # 새창을 화면 측 상단으로 이동\n",
    "    cv2.imwrite(r'C:\\Users\\alchera\\Desktop\\lanmark_new\\test\\0_Parade_marchingband_1_116_crop.jpg', roi)  # ROI 영역만 파일로 저장\n",
    "    \n",
    "cv2.imshow('img', img)\n",
    "cv2.waitKey(0)\n",
    "cv2.destroyAllWindows()"
   ]
  },
  {
   "cell_type": "code",
   "execution_count": 8,
   "metadata": {},
   "outputs": [
    {
     "ename": "",
     "evalue": "",
     "output_type": "error",
     "traceback": [
      "\u001b[1;31mThe Kernel crashed while executing code in the the current cell or a previous cell. Please review the code in the cell(s) to identify a possible cause of the failure. Click <a href='https://aka.ms/vscodeJupyterKernelCrash'>here</a> for more info. View Jupyter <a href='command:jupyter.viewOutput'>log</a> for further details."
     ]
    }
   ],
   "source": [
    "test_root = r'C:\\Users\\alchera\\Desktop\\lanmark_new\\test'\n",
    "for (root, directories, files) in os.walk(test_root):\n",
    "    for file in files:\n",
    "        if '.jpg' in file:\n",
    "            file_path = os.path.join(root, file)\n",
    "            img = cv2.imread(file_path)\n",
    "            x,y,w,h = cv2.selectROI('img', img, False)\n",
    "            if w and h:\n",
    "                roi = img[y:y+h, x:x+w]\n",
    "                cv2.imshow('cropped', roi)                   # ROI 지정 영역을 새창으로 표시\n",
    "                cv2.moveWindow('cropped', 0, 0)              # 새창을 화면 측 상단으로 이동\n",
    "\n",
    "                new_img_name = file[:-4]+\"_crop.jpg\"\n",
    "                save_root = os.path.join(test_root,new_img_name)\n",
    "                cv2.imwrite(save_root, roi)  # ROI 영역만 파일로 저장\n"
   ]
  },
  {
   "cell_type": "code",
   "execution_count": null,
   "metadata": {},
   "outputs": [],
   "source": []
  }
 ],
 "metadata": {
  "interpreter": {
   "hash": "bb2f72c22838a6db16a7522b89f0c2c1ba6ad0328076bd01509a79e4588c2f54"
  },
  "kernelspec": {
   "display_name": "Python 3.9.12 64-bit (windows store)",
   "language": "python",
   "name": "python3"
  },
  "language_info": {
   "codemirror_mode": {
    "name": "ipython",
    "version": 3
   },
   "file_extension": ".py",
   "mimetype": "text/x-python",
   "name": "python",
   "nbconvert_exporter": "python",
   "pygments_lexer": "ipython3",
   "version": "3.9.12"
  },
  "orig_nbformat": 4
 },
 "nbformat": 4,
 "nbformat_minor": 2
}
