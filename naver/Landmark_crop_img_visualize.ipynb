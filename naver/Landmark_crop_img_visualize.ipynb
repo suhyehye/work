{
 "cells": [
  {
   "cell_type": "code",
   "execution_count": 2,
   "metadata": {},
   "outputs": [],
   "source": [
    "import os,glob\n",
    "from os.path import join,basename,dirname,splitext,isfile\n",
    "import sys,shutil,json\n",
    "import numpy as np\n",
    "import cv2\n",
    "from concurrent.futures import ThreadPoolExecutor\n",
    "from PIL import Image,ImageDraw,ImageFont\n",
    "import matplotlib.pyplot as plt"
   ]
  },
  {
   "cell_type": "code",
   "execution_count": 3,
   "metadata": {},
   "outputs": [],
   "source": [
    "blue, green, red = (255,0,0),(0,255,0),(0,0,255)\n",
    "font = cv2.FONT_HERSHEY_COMPLEX\n",
    "\n",
    "json_files = glob.glob(r\"C:\\Users\\alchera\\Desktop\\asd\\*.json\")\n",
    "\n",
    "\n",
    "jpg_files = glob.glob(r\"C:\\Users\\alchera\\Desktop\\asd\\*.jpg\")"
   ]
  },
  {
   "cell_type": "code",
   "execution_count": 13,
   "metadata": {},
   "outputs": [],
   "source": [
    "def pil_draw_point(image, point):\n",
    "    x, y = point\n",
    "    draw = ImageDraw.Draw(image)\n",
    "    radius = 0.7\n",
    "    draw.ellipse((x - 1/2*radius, y - 1/2*radius, x + 1/2*radius, y + 1/2*radius), fill=(0, 0, 255))\n",
    "\n",
    "    return image\n"
   ]
  },
  {
   "cell_type": "code",
   "execution_count": 7,
   "metadata": {},
   "outputs": [],
   "source": [
    "for json_file in json_files:\n",
    "\n",
    "    json_name = json_file.split('\\\\')[-1][:-13]\n",
    "    \n",
    "    for jpg_file in jpg_files:\n",
    "        jpg_name = jpg_file.split('\\\\')[-1][:-4]\n",
    "\n",
    "        if json_name == jpg_name:\n",
    "            with open(json_file, \"r\",encoding='UTF-8') as f:\n",
    "                data = json.load(f)\n",
    "                landmark = data[0]['points']\n",
    "                image = Image.open(jpg_file)\n",
    "           \n",
    "                for land in landmark:\n",
    "                    i = land[0]\n",
    "                    j = land[1]\n",
    "                    image = pil_draw_point(image,(i,j))\n",
    "                \n",
    "    image.save(r'C:\\Users\\alchera\\Desktop\\asd\\ab\\{}.jpg'.format(json_name))\n",
    "   "
   ]
  },
  {
   "cell_type": "code",
   "execution_count": 55,
   "metadata": {},
   "outputs": [],
   "source": [
    "# cv2 이용\n",
    "# 점찍기\n",
    "\n",
    "for json_file in json_files:\n",
    "\n",
    "    json_name = json_file.split('\\\\')[-1][:-13]\n",
    "    \n",
    "    for jpg_file in jpg_files:\n",
    "        jpg_name = jpg_file.split('\\\\')[-1][:-4]\n",
    "\n",
    "        if json_name == jpg_name:\n",
    "            with open(json_file, \"r\",encoding='UTF-8') as f:\n",
    "                data = json.load(f)\n",
    "                landmark = data[0]['points']\n",
    "                img = cv2.imread(jpg_file)\n",
    "\n",
    "                k = 0\n",
    "           \n",
    "                for land in landmark:\n",
    "                    i = np.int0(land[0])\n",
    "                    j = np.int0(land[1])\n",
    "                    k = k+1\n",
    "                    img = cv2.circle(img,(i,j),1,blue,-1)\n",
    "                    \n",
    "                cv2.imwrite(r'C:\\Users\\alchera\\Desktop\\asd\\cv2\\{}_circle.jpg'.format(jpg_name),img)\n",
    "                cv2.imshow('circle', img)\n",
    "                cv2.waitKey(0)\n",
    "                cv2.destroyAllWindows()\n",
    "    "
   ]
  },
  {
   "cell_type": "code",
   "execution_count": 5,
   "metadata": {},
   "outputs": [],
   "source": [
    "# cv2 이용\n",
    "# 텍스트 \n",
    "# 텍스트 사이즈 변환해야함\n",
    "\n",
    "\n",
    "for json_file in json_files:\n",
    "\n",
    "    json_name = json_file.split('\\\\')[-1][:-13]\n",
    "    \n",
    "    for jpg_file in jpg_files:\n",
    "        jpg_name = jpg_file.split('\\\\')[-1][:-4]\n",
    "\n",
    "        if json_name == jpg_name:\n",
    "            with open(json_file, \"r\",encoding='UTF-8') as f:\n",
    "                data = json.load(f)\n",
    "                landmark = data[0]['points']\n",
    "                img = cv2.imread(jpg_file)\n",
    "\n",
    "                k = 0\n",
    "           \n",
    "                for land in landmark:\n",
    "                    i = np.int0(land[0])\n",
    "                    j = np.int0(land[1])\n",
    "                    k = k+1\n",
    "                    text = str(k)\n",
    "                    font=cv2.FONT_HERSHEY_COMPLEX\n",
    "                    img = cv2.putText(img,text,(i,j),font,0.05,(255,0,0),np.int0(0.2),cv2.LINE_AA)\n",
    "\n",
    "\n",
    "                \n",
    "                cv2.imshow('txt', img)\n",
    "                cv2.imwrite(r'C:\\Users\\alchera\\Desktop\\asd\\cv2\\{}_text.jpg'.format(jpg_name),img)\n",
    "                cv2.waitKey(0)\n",
    "                cv2.destroyAllWindows()\n",
    "                \n",
    "\n"
   ]
  },
  {
   "cell_type": "code",
   "execution_count": null,
   "metadata": {},
   "outputs": [],
   "source": [
    "cv2.imwrite(r'C:\\Users\\alchera\\Desktop\\asd\\cv2\\{}_text.jpg'.format(jpg_name),img)\n",
    "resize_img = cv2.resize(img, (800, 800))"
   ]
  },
  {
   "cell_type": "code",
   "execution_count": 6,
   "metadata": {},
   "outputs": [],
   "source": [
    "# cv2 이용\n",
    "# 선긋기\n",
    "\n",
    "for json_file in json_files:\n",
    "\n",
    "    json_name = json_file.split('\\\\')[-1][:-13]\n",
    "    \n",
    "    for jpg_file in jpg_files:\n",
    "        jpg_name = jpg_file.split('\\\\')[-1][:-4]\n",
    "\n",
    "        if json_name == jpg_name:\n",
    "            with open(json_file, \"r\",encoding='UTF-8') as f:\n",
    "                data = json.load(f)\n",
    "                landmark = data[0]['points']\n",
    "                img = cv2.imread(jpg_file)\n",
    "\n",
    "                land_list = []\n",
    "                \n",
    "           \n",
    "                for land in landmark:\n",
    "                    l_list = []\n",
    "                    i = np.int0(land[0])\n",
    "                    j = np.int0(land[1])\n",
    "                    l_list.append(i)\n",
    "                    l_list.append(j)\n",
    "                    land_list.append(l_list)\n",
    "                    \n",
    "                landmark_array = np.array(land_list)   \n",
    "                \n",
    "                img = cv2.polylines(img,[landmark_array],False,blue)    \n",
    "                    \n",
    "\n",
    "\n",
    "                cv2.imshow('line', img)\n",
    "                cv2.imwrite(r'C:\\Users\\alchera\\Desktop\\asd\\cv2\\{}_line.jpg'.format(jpg_name),img)\n",
    "                cv2.waitKey(0)\n",
    "                cv2.destroyAllWindows()"
   ]
  },
  {
   "cell_type": "code",
   "execution_count": 4,
   "metadata": {},
   "outputs": [
    {
     "name": "stdout",
     "output_type": "stream",
     "text": [
      "(190, 180, 3)\n",
      "(168, 164, 3)\n",
      "(161, 163, 3)\n"
     ]
    }
   ],
   "source": [
    "#이미지 사이즈 확인\n",
    "#(height, width , channel)\n",
    "font=cv2.FONT_HERSHEY_COMPLEX\n",
    "\n",
    "for jpg_file in jpg_files:\n",
    "    img = cv2.imread(jpg_file)\n",
    "    print(img.shape)\n"
   ]
  },
  {
   "cell_type": "code",
   "execution_count": null,
   "metadata": {},
   "outputs": [],
   "source": []
  }
 ],
 "metadata": {
  "interpreter": {
   "hash": "4b28e743c8e733b4a0b70046c1ef162079f3fd0c39983f7d2bf0392a4b5917cb"
  },
  "kernelspec": {
   "display_name": "Python 3.9.12 64-bit (windows store)",
   "language": "python",
   "name": "python3"
  },
  "language_info": {
   "codemirror_mode": {
    "name": "ipython",
    "version": 3
   },
   "file_extension": ".py",
   "mimetype": "text/x-python",
   "name": "python",
   "nbconvert_exporter": "python",
   "pygments_lexer": "ipython3",
   "version": "3.9.12"
  },
  "orig_nbformat": 4
 },
 "nbformat": 4,
 "nbformat_minor": 2
}
