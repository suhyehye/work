{
 "cells": [
  {
   "cell_type": "code",
   "execution_count": 1,
   "id": "fbfdcf52",
   "metadata": {},
   "outputs": [],
   "source": [
    "import os\n",
    "import shutil"
   ]
  },
  {
   "cell_type": "code",
   "execution_count": 2,
   "id": "c4989ea2",
   "metadata": {},
   "outputs": [],
   "source": [
    "#이미지 경로\n",
    "imgDirPath = r\"C:\\Users\\alchera\\Downloads\\Python_coding_test\\Q1\"\n",
    "\n",
    "#복사할 경로\n",
    "saveDirPath = r\"C:\\Users\\alchera\\Desktop\\test\\Q1\""
   ]
  },
  {
   "cell_type": "code",
   "execution_count": 3,
   "id": "ffb42798",
   "metadata": {},
   "outputs": [],
   "source": [
    "#경로 생성\n",
    "def makeDir(path):\n",
    "    if not os.path.exists(path):\n",
    "        os.mkdir(path)"
   ]
  },
  {
   "cell_type": "code",
   "execution_count": 4,
   "id": "e6abb243",
   "metadata": {},
   "outputs": [],
   "source": [
    "def makeDirTree(tmp):\n",
    "    saveRootDir = os.path.join(saveDirPath)\n",
    "\n",
    "    if not os.path.exists(saveRootDir):\n",
    "        os.mkdir(saveRootDir)\n",
    "        clipNameDirPath = os.path.join(saveRootDir, tmp[6])\n",
    "        os.mkdir(clipNameDirPath)\n",
    "    else:\n",
    "        clipNameDirPath = os.path.join(saveRootDir, tmp[6])\n",
    "        if not os.path.exists(clipNameDirPath):\n",
    "            os.mkdir(clipNameDirPath)"
   ]
  },
  {
   "cell_type": "code",
   "execution_count": 5,
   "id": "156b2ae6",
   "metadata": {},
   "outputs": [],
   "source": [
    "files = os.listdir(imgDirPath)"
   ]
  },
  {
   "cell_type": "code",
   "execution_count": 6,
   "id": "dfd5afe7",
   "metadata": {},
   "outputs": [],
   "source": [
    "#반복문을 통해 파일 검사를 한다.\n",
    "for file in files:\n",
    "    ##파일 명을 \"-\"로 분할한다.(split, 0은 키워드, 3 동영상 이름)\n",
    "    tmp = file.split(\"-\")\n",
    "\n",
    "    ##저장할 폴더를 만든다.(makeDirTree 함수를 사용한다)\n",
    "    saveRootDir = os.path.join(saveDirPath, tmp[0],tmp[1],tmp[2],tmp[3],tmp[4])\n",
    "    \n",
    "\n",
    "\n",
    "    #파일경로가 존재하지 않으면 새로 생성\n",
    "    if not os.path.exists(saveRootDir):\n",
    "        os.makedirs(saveRootDir)\n",
    "        clipNameDirPath = os.path.join(saveRootDir, tmp[5])\n",
    "        os.mkdir(clipNameDirPath)\n",
    "\n",
    "    #파일 경로가 존재하면 그대로 복사\n",
    "    else:\n",
    "        clipNameDirPath = os.path.join(saveRootDir, tmp[5])\n",
    "        makeDir(clipNameDirPath)\n",
    "        # if not os.path.exists(clipNameDirPath):\n",
    "        #     os.mkdir(clipNameDirPath)\n",
    "\n",
    "    oriImagePath = os.path.join(imgDirPath, file)\n",
    "    newImagePath = os.path.join(clipNameDirPath, tmp[6])\n",
    "    shutil.copy2(oriImagePath, newImagePath)"
   ]
  },
  {
   "cell_type": "code",
   "execution_count": null,
   "id": "68f9b123",
   "metadata": {},
   "outputs": [],
   "source": []
  }
 ],
 "metadata": {
  "kernelspec": {
   "display_name": "Python 3 (ipykernel)",
   "language": "python",
   "name": "python3"
  },
  "language_info": {
   "codemirror_mode": {
    "name": "ipython",
    "version": 3
   },
   "file_extension": ".py",
   "mimetype": "text/x-python",
   "name": "python",
   "nbconvert_exporter": "python",
   "pygments_lexer": "ipython3",
   "version": "3.9.7"
  }
 },
 "nbformat": 4,
 "nbformat_minor": 5
}
