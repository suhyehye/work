{
 "cells": [
  {
   "cell_type": "code",
   "execution_count": 1,
   "id": "f3cf11a4",
   "metadata": {},
   "outputs": [],
   "source": [
    "#파일 복사\n",
    "import os\n",
    "import shutil\n",
    "\n",
    "imgDirPath = r\"C:\\Users\\alchera\\Downloads\\Python_coding_test\\Q2-2\"\n",
    "saveDirPath = r\"C:\\Users\\alchera\\Desktop\\test\\Q2-2\"\n",
    "\n",
    "files = os.listdir(imgDirPath)\n",
    "\n",
    "for file in files:\n",
    "    fname, ext = os.path.splitext(file)\n",
    "    fPath = os.path.join(imgDirPath, file)\n",
    "    if os.path.isfile(fPath):\n",
    "        f = open(fPath, \"r\", encoding=\"utf-8\")\n",
    "        className = \"\"\n",
    "        newImgName = fname + ext\n",
    "\n",
    "        oriImagePath = os.path.join(imgDirPath, fname + ext)\n",
    "        newImagePath = os.path.join(saveDirPath, newImgName)\n",
    "\n",
    "        shutil.copy2(oriImagePath, newImagePath)\n"
   ]
  },
  {
   "cell_type": "code",
   "execution_count": 2,
   "id": "1bcd3759",
   "metadata": {},
   "outputs": [
    {
     "data": {
      "text/plain": [
       "['C:\\\\Users\\\\alchera\\\\Desktop\\\\test\\\\Q2-2\\\\Google_0491.alchera.json',\n",
       " 'C:\\\\Users\\\\alchera\\\\Desktop\\\\test\\\\Q2-2\\\\Google_0491.alchera_attribute.json',\n",
       " 'C:\\\\Users\\\\alchera\\\\Desktop\\\\test\\\\Q2-2\\\\Google_0494.alchera.json',\n",
       " 'C:\\\\Users\\\\alchera\\\\Desktop\\\\test\\\\Q2-2\\\\Google_0494.alchera_attribute.json',\n",
       " 'C:\\\\Users\\\\alchera\\\\Desktop\\\\test\\\\Q2-2\\\\Google_0495.alchera.json',\n",
       " 'C:\\\\Users\\\\alchera\\\\Desktop\\\\test\\\\Q2-2\\\\Google_0495.alchera_attribute.json',\n",
       " 'C:\\\\Users\\\\alchera\\\\Desktop\\\\test\\\\Q2-2\\\\Google_0496.alchera.json',\n",
       " 'C:\\\\Users\\\\alchera\\\\Desktop\\\\test\\\\Q2-2\\\\Google_0496.alchera_attribute.json',\n",
       " 'C:\\\\Users\\\\alchera\\\\Desktop\\\\test\\\\Q2-2\\\\Google_0497.alchera.json',\n",
       " 'C:\\\\Users\\\\alchera\\\\Desktop\\\\test\\\\Q2-2\\\\Google_0497.alchera_attribute.json',\n",
       " 'C:\\\\Users\\\\alchera\\\\Desktop\\\\test\\\\Q2-2\\\\Google_0499.alchera.json',\n",
       " 'C:\\\\Users\\\\alchera\\\\Desktop\\\\test\\\\Q2-2\\\\Google_0499.alchera_attribute.json',\n",
       " 'C:\\\\Users\\\\alchera\\\\Desktop\\\\test\\\\Q2-2\\\\Google_0500.alchera.json',\n",
       " 'C:\\\\Users\\\\alchera\\\\Desktop\\\\test\\\\Q2-2\\\\Google_0500.alchera_attribute.json',\n",
       " 'C:\\\\Users\\\\alchera\\\\Desktop\\\\test\\\\Q2-2\\\\Google_0502.alchera.json',\n",
       " 'C:\\\\Users\\\\alchera\\\\Desktop\\\\test\\\\Q2-2\\\\Google_0502.alchera_attribute.json',\n",
       " 'C:\\\\Users\\\\alchera\\\\Desktop\\\\test\\\\Q2-2\\\\Google_0504.alchera.json',\n",
       " 'C:\\\\Users\\\\alchera\\\\Desktop\\\\test\\\\Q2-2\\\\Google_0504.alchera_attribute.json',\n",
       " 'C:\\\\Users\\\\alchera\\\\Desktop\\\\test\\\\Q2-2\\\\Google_0506.alchera.json',\n",
       " 'C:\\\\Users\\\\alchera\\\\Desktop\\\\test\\\\Q2-2\\\\Google_0506.alchera_attribute.json',\n",
       " 'C:\\\\Users\\\\alchera\\\\Desktop\\\\test\\\\Q2-2\\\\Google_0507.alchera.json',\n",
       " 'C:\\\\Users\\\\alchera\\\\Desktop\\\\test\\\\Q2-2\\\\Google_0507.alchera_attribute.json',\n",
       " 'C:\\\\Users\\\\alchera\\\\Desktop\\\\test\\\\Q2-2\\\\Google_0508.alchera.json',\n",
       " 'C:\\\\Users\\\\alchera\\\\Desktop\\\\test\\\\Q2-2\\\\Google_0508.alchera_attribute.json',\n",
       " 'C:\\\\Users\\\\alchera\\\\Desktop\\\\test\\\\Q2-2\\\\Google_0510.alchera.json',\n",
       " 'C:\\\\Users\\\\alchera\\\\Desktop\\\\test\\\\Q2-2\\\\Google_0510.alchera_attribute.json',\n",
       " 'C:\\\\Users\\\\alchera\\\\Desktop\\\\test\\\\Q2-2\\\\Google_0511.alchera.json',\n",
       " 'C:\\\\Users\\\\alchera\\\\Desktop\\\\test\\\\Q2-2\\\\Google_0511.alchera_attribute.json',\n",
       " 'C:\\\\Users\\\\alchera\\\\Desktop\\\\test\\\\Q2-2\\\\Google_0512.alchera.json',\n",
       " 'C:\\\\Users\\\\alchera\\\\Desktop\\\\test\\\\Q2-2\\\\Google_0512.alchera_attribute.json',\n",
       " 'C:\\\\Users\\\\alchera\\\\Desktop\\\\test\\\\Q2-2\\\\Google_0513.alchera.json',\n",
       " 'C:\\\\Users\\\\alchera\\\\Desktop\\\\test\\\\Q2-2\\\\Google_0513.alchera_attribute.json',\n",
       " 'C:\\\\Users\\\\alchera\\\\Desktop\\\\test\\\\Q2-2\\\\Google_0515.alchera.json',\n",
       " 'C:\\\\Users\\\\alchera\\\\Desktop\\\\test\\\\Q2-2\\\\Google_0515.alchera_attribute.json',\n",
       " 'C:\\\\Users\\\\alchera\\\\Desktop\\\\test\\\\Q2-2\\\\Google_0516.alchera.json',\n",
       " 'C:\\\\Users\\\\alchera\\\\Desktop\\\\test\\\\Q2-2\\\\Google_0516.alchera_attribute.json',\n",
       " 'C:\\\\Users\\\\alchera\\\\Desktop\\\\test\\\\Q2-2\\\\Google_0518.alchera.json',\n",
       " 'C:\\\\Users\\\\alchera\\\\Desktop\\\\test\\\\Q2-2\\\\Google_0518.alchera_attribute.json',\n",
       " 'C:\\\\Users\\\\alchera\\\\Desktop\\\\test\\\\Q2-2\\\\Google_0519.alchera.json',\n",
       " 'C:\\\\Users\\\\alchera\\\\Desktop\\\\test\\\\Q2-2\\\\Google_0519.alchera_attribute.json',\n",
       " 'C:\\\\Users\\\\alchera\\\\Desktop\\\\test\\\\Q2-2\\\\Google_0520.alchera.json',\n",
       " 'C:\\\\Users\\\\alchera\\\\Desktop\\\\test\\\\Q2-2\\\\Google_0520.alchera_attribute.json',\n",
       " 'C:\\\\Users\\\\alchera\\\\Desktop\\\\test\\\\Q2-2\\\\Google_0521.alchera.json',\n",
       " 'C:\\\\Users\\\\alchera\\\\Desktop\\\\test\\\\Q2-2\\\\Google_0521.alchera_attribute.json',\n",
       " 'C:\\\\Users\\\\alchera\\\\Desktop\\\\test\\\\Q2-2\\\\Google_0522.alchera.json',\n",
       " 'C:\\\\Users\\\\alchera\\\\Desktop\\\\test\\\\Q2-2\\\\Google_0522.alchera_attribute.json',\n",
       " 'C:\\\\Users\\\\alchera\\\\Desktop\\\\test\\\\Q2-2\\\\Google_0523.alchera.json',\n",
       " 'C:\\\\Users\\\\alchera\\\\Desktop\\\\test\\\\Q2-2\\\\Google_0523.alchera_attribute.json',\n",
       " 'C:\\\\Users\\\\alchera\\\\Desktop\\\\test\\\\Q2-2\\\\Google_0524.alchera.json',\n",
       " 'C:\\\\Users\\\\alchera\\\\Desktop\\\\test\\\\Q2-2\\\\Google_0524.alchera_attribute.json',\n",
       " 'C:\\\\Users\\\\alchera\\\\Desktop\\\\test\\\\Q2-2\\\\Google_0526.alchera.json',\n",
       " 'C:\\\\Users\\\\alchera\\\\Desktop\\\\test\\\\Q2-2\\\\Google_0526.alchera_attribute.json',\n",
       " 'C:\\\\Users\\\\alchera\\\\Desktop\\\\test\\\\Q2-2\\\\Google_0527.alchera.json',\n",
       " 'C:\\\\Users\\\\alchera\\\\Desktop\\\\test\\\\Q2-2\\\\Google_0527.alchera_attribute.json',\n",
       " 'C:\\\\Users\\\\alchera\\\\Desktop\\\\test\\\\Q2-2\\\\Google_0529.alchera.json',\n",
       " 'C:\\\\Users\\\\alchera\\\\Desktop\\\\test\\\\Q2-2\\\\Google_0529.alchera_attribute.json',\n",
       " 'C:\\\\Users\\\\alchera\\\\Desktop\\\\test\\\\Q2-2\\\\Google_0530.alchera.json',\n",
       " 'C:\\\\Users\\\\alchera\\\\Desktop\\\\test\\\\Q2-2\\\\Google_0530.alchera_attribute.json',\n",
       " 'C:\\\\Users\\\\alchera\\\\Desktop\\\\test\\\\Q2-2\\\\Google_0531.alchera.json',\n",
       " 'C:\\\\Users\\\\alchera\\\\Desktop\\\\test\\\\Q2-2\\\\Google_0531.alchera_attribute.json',\n",
       " 'C:\\\\Users\\\\alchera\\\\Desktop\\\\test\\\\Q2-2\\\\Google_0532.alchera.json',\n",
       " 'C:\\\\Users\\\\alchera\\\\Desktop\\\\test\\\\Q2-2\\\\Google_0532.alchera_attribute.json',\n",
       " 'C:\\\\Users\\\\alchera\\\\Desktop\\\\test\\\\Q2-2\\\\Google_0533.alchera.json',\n",
       " 'C:\\\\Users\\\\alchera\\\\Desktop\\\\test\\\\Q2-2\\\\Google_0533.alchera_attribute.json',\n",
       " 'C:\\\\Users\\\\alchera\\\\Desktop\\\\test\\\\Q2-2\\\\Google_0534.alchera.json',\n",
       " 'C:\\\\Users\\\\alchera\\\\Desktop\\\\test\\\\Q2-2\\\\Google_0534.alchera_attribute.json',\n",
       " 'C:\\\\Users\\\\alchera\\\\Desktop\\\\test\\\\Q2-2\\\\Google_0535.alchera.json',\n",
       " 'C:\\\\Users\\\\alchera\\\\Desktop\\\\test\\\\Q2-2\\\\Google_0535.alchera_attribute.json',\n",
       " 'C:\\\\Users\\\\alchera\\\\Desktop\\\\test\\\\Q2-2\\\\Google_0536.alchera.json',\n",
       " 'C:\\\\Users\\\\alchera\\\\Desktop\\\\test\\\\Q2-2\\\\Google_0536.alchera_attribute.json',\n",
       " 'C:\\\\Users\\\\alchera\\\\Desktop\\\\test\\\\Q2-2\\\\Google_0537.alchera.json',\n",
       " 'C:\\\\Users\\\\alchera\\\\Desktop\\\\test\\\\Q2-2\\\\Google_0537.alchera_attribute.json',\n",
       " 'C:\\\\Users\\\\alchera\\\\Desktop\\\\test\\\\Q2-2\\\\Google_0540.alchera.json',\n",
       " 'C:\\\\Users\\\\alchera\\\\Desktop\\\\test\\\\Q2-2\\\\Google_0540.alchera_attribute.json',\n",
       " 'C:\\\\Users\\\\alchera\\\\Desktop\\\\test\\\\Q2-2\\\\Google_0541.alchera.json',\n",
       " 'C:\\\\Users\\\\alchera\\\\Desktop\\\\test\\\\Q2-2\\\\Google_0541.alchera_attribute.json',\n",
       " 'C:\\\\Users\\\\alchera\\\\Desktop\\\\test\\\\Q2-2\\\\Google_0543.alchera.json',\n",
       " 'C:\\\\Users\\\\alchera\\\\Desktop\\\\test\\\\Q2-2\\\\Google_0543.alchera_attribute.json',\n",
       " 'C:\\\\Users\\\\alchera\\\\Desktop\\\\test\\\\Q2-2\\\\Google_0544.alchera.json',\n",
       " 'C:\\\\Users\\\\alchera\\\\Desktop\\\\test\\\\Q2-2\\\\Google_0544.alchera_attribute.json',\n",
       " 'C:\\\\Users\\\\alchera\\\\Desktop\\\\test\\\\Q2-2\\\\Google_0545.alchera.json',\n",
       " 'C:\\\\Users\\\\alchera\\\\Desktop\\\\test\\\\Q2-2\\\\Google_0545.alchera_attribute.json']"
      ]
     },
     "execution_count": 2,
     "metadata": {},
     "output_type": "execute_result"
    }
   ],
   "source": [
    "import glob\n",
    "\n",
    "json_files = glob.glob(r\"C:\\Users\\alchera\\Desktop\\test\\Q2-2/*.json\")\n",
    "json_files"
   ]
  },
  {
   "cell_type": "code",
   "execution_count": 3,
   "id": "e51ff316",
   "metadata": {},
   "outputs": [
    {
     "data": {
      "text/plain": [
       "['Google_0491.alchera.json',\n",
       " 'Google_0494.alchera.json',\n",
       " 'Google_0495.alchera.json',\n",
       " 'Google_0496.alchera.json',\n",
       " 'Google_0497.alchera.json',\n",
       " 'Google_0499.alchera.json',\n",
       " 'Google_0500.alchera.json',\n",
       " 'Google_0502.alchera.json',\n",
       " 'Google_0504.alchera.json',\n",
       " 'Google_0506.alchera.json',\n",
       " 'Google_0507.alchera.json',\n",
       " 'Google_0508.alchera.json',\n",
       " 'Google_0510.alchera.json',\n",
       " 'Google_0511.alchera.json',\n",
       " 'Google_0512.alchera.json',\n",
       " 'Google_0513.alchera.json',\n",
       " 'Google_0515.alchera.json',\n",
       " 'Google_0516.alchera.json',\n",
       " 'Google_0518.alchera.json',\n",
       " 'Google_0519.alchera.json',\n",
       " 'Google_0520.alchera.json',\n",
       " 'Google_0521.alchera.json',\n",
       " 'Google_0522.alchera.json',\n",
       " 'Google_0523.alchera.json',\n",
       " 'Google_0524.alchera.json',\n",
       " 'Google_0526.alchera.json',\n",
       " 'Google_0527.alchera.json',\n",
       " 'Google_0529.alchera.json',\n",
       " 'Google_0530.alchera.json',\n",
       " 'Google_0531.alchera.json',\n",
       " 'Google_0532.alchera.json',\n",
       " 'Google_0533.alchera.json',\n",
       " 'Google_0534.alchera.json',\n",
       " 'Google_0535.alchera.json',\n",
       " 'Google_0536.alchera.json',\n",
       " 'Google_0537.alchera.json',\n",
       " 'Google_0540.alchera.json',\n",
       " 'Google_0541.alchera.json',\n",
       " 'Google_0543.alchera.json',\n",
       " 'Google_0544.alchera.json',\n",
       " 'Google_0545.alchera.json']"
      ]
     },
     "execution_count": 3,
     "metadata": {},
     "output_type": "execute_result"
    }
   ],
   "source": [
    "file_name = os.listdir(saveDirPath)\n",
    "file_name"
   ]
  },
  {
   "cell_type": "code",
   "execution_count": 4,
   "id": "1c944942",
   "metadata": {},
   "outputs": [
    {
     "name": "stdout",
     "output_type": "stream",
     "text": [
      "{'age': 23.4571590423584, 'female_confidence': 0.9991967082023621, 'male_confidence': 0.0008032546029426157}\n",
      "{'age': 18.373592376708984, 'female_confidence': 0.1339067965745926, 'male_confidence': 0.8660932183265686}\n",
      "{'age': 22.793296813964844, 'female_confidence': 0.9743494391441345, 'male_confidence': 0.02565055899322033}\n",
      "{'age': 20.722204208374023, 'female_confidence': 0.16213388741016388, 'male_confidence': 0.8378660678863525}\n",
      "{'age': 27.841556549072266, 'female_confidence': 0.998504638671875, 'male_confidence': 0.0014954068465158343}\n",
      "{'age': 39.97114944458008, 'female_confidence': 0.03823064640164375, 'male_confidence': 0.9617693424224854}\n",
      "{'age': 34.976417541503906, 'female_confidence': 0.0003980885667260736, 'male_confidence': 0.9996019005775452}\n",
      "{'age': 32.173728942871094, 'female_confidence': 0.6566705107688904, 'male_confidence': 0.3433294892311096}\n",
      "{'age': 22.14348602294922, 'female_confidence': 0.9648655652999878, 'male_confidence': 0.03513441979885101}\n",
      "{'age': 22.40498924255371, 'female_confidence': 0.9948662519454956, 'male_confidence': 0.005133699160069227}\n",
      "{'age': 29.791780471801758, 'female_confidence': 0.9967213273048401, 'male_confidence': 0.003278696443885565}\n",
      "{'age': 38.87541961669922, 'female_confidence': 0.005094247404485941, 'male_confidence': 0.9949058294296265}\n",
      "{'age': 21.4735107421875, 'female_confidence': 0.033023279160261154, 'male_confidence': 0.9669767022132874}\n",
      "{'age': 26.229124069213867, 'female_confidence': 0.816261351108551, 'male_confidence': 0.18373866379261017}\n",
      "{'age': 53.7120475769043, 'female_confidence': 0.08981358259916306, 'male_confidence': 0.9101863503456116}\n",
      "{'age': 52.46776580810547, 'female_confidence': 0.000993737718090415, 'male_confidence': 0.9990063309669495}\n",
      "{'age': 34.72282409667969, 'female_confidence': 0.6286213994026184, 'male_confidence': 0.3713786005973816}\n",
      "{'age': 26.777231216430664, 'female_confidence': 0.9975173473358154, 'male_confidence': 0.002482685260474682}\n",
      "{'age': 20.018085479736328, 'female_confidence': 0.0008019155357033014, 'male_confidence': 0.9991981387138367}\n",
      "{'age': 39.07059097290039, 'female_confidence': 0.9562494158744812, 'male_confidence': 0.043750591576099396}\n",
      "{'age': 24.081838607788086, 'female_confidence': 0.9928297400474548, 'male_confidence': 0.007170300465077162}\n",
      "{'age': 25.116567611694336, 'female_confidence': 0.9962175488471985, 'male_confidence': 0.0037824285682290792}\n",
      "{'age': 34.932926177978516, 'female_confidence': 0.08777521550655365, 'male_confidence': 0.9122248291969299}\n",
      "{'age': 26.658344268798828, 'female_confidence': 0.9148174524307251, 'male_confidence': 0.0851825401186943}\n",
      "{'age': 24.023269653320312, 'female_confidence': 0.9481294751167297, 'male_confidence': 0.05187052860856056}\n",
      "{'age': 42.09367370605469, 'female_confidence': 0.0010097566992044449, 'male_confidence': 0.9989902377128601}\n",
      "{'age': 43.039581298828125, 'female_confidence': 0.09746446460485458, 'male_confidence': 0.9025354981422424}\n",
      "{'age': 37.2487907409668, 'female_confidence': 0.9950584173202515, 'male_confidence': 0.004941601771861315}\n",
      "{'age': 39.871917724609375, 'female_confidence': 0.021089300513267517, 'male_confidence': 0.9789107441902161}\n",
      "{'age': 27.326154708862305, 'female_confidence': 0.9930379986763, 'male_confidence': 0.0069620381109416485}\n",
      "{'age': 23.554786682128906, 'female_confidence': 0.9403462409973145, 'male_confidence': 0.05965373292565346}\n",
      "{'age': 40.6381950378418, 'female_confidence': 0.6356191039085388, 'male_confidence': 0.3643808960914612}\n",
      "{'age': 58.75677490234375, 'female_confidence': 0.9724497199058533, 'male_confidence': 0.027550294995307922}\n",
      "{'age': 36.165130615234375, 'female_confidence': 0.9830304980278015, 'male_confidence': 0.016969578340649605}\n",
      "{'age': 24.50135612487793, 'female_confidence': 0.08497420698404312, 'male_confidence': 0.9150258302688599}\n",
      "{'age': 48.2259521484375, 'female_confidence': 0.009120844304561615, 'male_confidence': 0.990879237651825}\n",
      "{'age': 54.91279983520508, 'female_confidence': 0.8188237547874451, 'male_confidence': 0.18117624521255493}\n",
      "{'age': 34.26008605957031, 'female_confidence': 0.0002104698505718261, 'male_confidence': 0.9997895359992981}\n",
      "{'age': 23.425228118896484, 'female_confidence': 0.017625199630856514, 'male_confidence': 0.9823747277259827}\n",
      "{'age': 43.346866607666016, 'female_confidence': 0.003703563241288066, 'male_confidence': 0.9962964653968811}\n",
      "{'age': 32.20143127441406, 'female_confidence': 0.2714800536632538, 'male_confidence': 0.7285199761390686}\n"
     ]
    }
   ],
   "source": [
    "import json\n",
    "for file in json_files:\n",
    "    with open(file, \"r\") as f:\n",
    "        data = json.load(f)\n",
    "        at = data[0]['attribute']\n",
    "        print(at)\n",
    "       "
   ]
  },
  {
   "cell_type": "code",
   "execution_count": null,
   "id": "50224441",
   "metadata": {},
   "outputs": [],
   "source": [
    "jsonObject = json.loads(js1)\n",
    "print(jsonObject.get(\"name\"))"
   ]
  },
  {
   "cell_type": "code",
   "execution_count": 29,
   "id": "47ac9e09",
   "metadata": {},
   "outputs": [
    {
     "data": {
      "text/plain": [
       "'Google_0545.alchera'"
      ]
     },
     "execution_count": 29,
     "metadata": {},
     "output_type": "execute_result"
    }
   ],
   "source": [
    "tmp = file.split(\"\\\\\")\n",
    "tmp[6][:-5]"
   ]
  },
  {
   "cell_type": "code",
   "execution_count": 30,
   "id": "af35b5e1",
   "metadata": {},
   "outputs": [
    {
     "name": "stdout",
     "output_type": "stream",
     "text": [
      "{'age': 23.4571590423584, 'female_confidence': 0.9991967082023621, 'male_confidence': 0.0008032546029426157}\n",
      "{'age': 18.373592376708984, 'female_confidence': 0.1339067965745926, 'male_confidence': 0.8660932183265686}\n",
      "{'age': 22.793296813964844, 'female_confidence': 0.9743494391441345, 'male_confidence': 0.02565055899322033}\n",
      "{'age': 20.722204208374023, 'female_confidence': 0.16213388741016388, 'male_confidence': 0.8378660678863525}\n",
      "{'age': 27.841556549072266, 'female_confidence': 0.998504638671875, 'male_confidence': 0.0014954068465158343}\n",
      "{'age': 39.97114944458008, 'female_confidence': 0.03823064640164375, 'male_confidence': 0.9617693424224854}\n",
      "{'age': 34.976417541503906, 'female_confidence': 0.0003980885667260736, 'male_confidence': 0.9996019005775452}\n",
      "{'age': 32.173728942871094, 'female_confidence': 0.6566705107688904, 'male_confidence': 0.3433294892311096}\n",
      "{'age': 22.14348602294922, 'female_confidence': 0.9648655652999878, 'male_confidence': 0.03513441979885101}\n",
      "{'age': 22.40498924255371, 'female_confidence': 0.9948662519454956, 'male_confidence': 0.005133699160069227}\n",
      "{'age': 29.791780471801758, 'female_confidence': 0.9967213273048401, 'male_confidence': 0.003278696443885565}\n",
      "{'age': 38.87541961669922, 'female_confidence': 0.005094247404485941, 'male_confidence': 0.9949058294296265}\n",
      "{'age': 21.4735107421875, 'female_confidence': 0.033023279160261154, 'male_confidence': 0.9669767022132874}\n",
      "{'age': 26.229124069213867, 'female_confidence': 0.816261351108551, 'male_confidence': 0.18373866379261017}\n",
      "{'age': 53.7120475769043, 'female_confidence': 0.08981358259916306, 'male_confidence': 0.9101863503456116}\n",
      "{'age': 52.46776580810547, 'female_confidence': 0.000993737718090415, 'male_confidence': 0.9990063309669495}\n",
      "{'age': 34.72282409667969, 'female_confidence': 0.6286213994026184, 'male_confidence': 0.3713786005973816}\n",
      "{'age': 26.777231216430664, 'female_confidence': 0.9975173473358154, 'male_confidence': 0.002482685260474682}\n",
      "{'age': 20.018085479736328, 'female_confidence': 0.0008019155357033014, 'male_confidence': 0.9991981387138367}\n",
      "{'age': 39.07059097290039, 'female_confidence': 0.9562494158744812, 'male_confidence': 0.043750591576099396}\n",
      "{'age': 24.081838607788086, 'female_confidence': 0.9928297400474548, 'male_confidence': 0.007170300465077162}\n",
      "{'age': 25.116567611694336, 'female_confidence': 0.9962175488471985, 'male_confidence': 0.0037824285682290792}\n",
      "{'age': 34.932926177978516, 'female_confidence': 0.08777521550655365, 'male_confidence': 0.9122248291969299}\n",
      "{'age': 26.658344268798828, 'female_confidence': 0.9148174524307251, 'male_confidence': 0.0851825401186943}\n",
      "{'age': 24.023269653320312, 'female_confidence': 0.9481294751167297, 'male_confidence': 0.05187052860856056}\n",
      "{'age': 42.09367370605469, 'female_confidence': 0.0010097566992044449, 'male_confidence': 0.9989902377128601}\n",
      "{'age': 43.039581298828125, 'female_confidence': 0.09746446460485458, 'male_confidence': 0.9025354981422424}\n",
      "{'age': 37.2487907409668, 'female_confidence': 0.9950584173202515, 'male_confidence': 0.004941601771861315}\n",
      "{'age': 39.871917724609375, 'female_confidence': 0.021089300513267517, 'male_confidence': 0.9789107441902161}\n",
      "{'age': 27.326154708862305, 'female_confidence': 0.9930379986763, 'male_confidence': 0.0069620381109416485}\n",
      "{'age': 23.554786682128906, 'female_confidence': 0.9403462409973145, 'male_confidence': 0.05965373292565346}\n",
      "{'age': 40.6381950378418, 'female_confidence': 0.6356191039085388, 'male_confidence': 0.3643808960914612}\n",
      "{'age': 58.75677490234375, 'female_confidence': 0.9724497199058533, 'male_confidence': 0.027550294995307922}\n",
      "{'age': 36.165130615234375, 'female_confidence': 0.9830304980278015, 'male_confidence': 0.016969578340649605}\n",
      "{'age': 24.50135612487793, 'female_confidence': 0.08497420698404312, 'male_confidence': 0.9150258302688599}\n",
      "{'age': 48.2259521484375, 'female_confidence': 0.009120844304561615, 'male_confidence': 0.990879237651825}\n",
      "{'age': 54.91279983520508, 'female_confidence': 0.8188237547874451, 'male_confidence': 0.18117624521255493}\n",
      "{'age': 34.26008605957031, 'female_confidence': 0.0002104698505718261, 'male_confidence': 0.9997895359992981}\n",
      "{'age': 23.425228118896484, 'female_confidence': 0.017625199630856514, 'male_confidence': 0.9823747277259827}\n",
      "{'age': 43.346866607666016, 'female_confidence': 0.003703563241288066, 'male_confidence': 0.9962964653968811}\n",
      "{'age': 32.20143127441406, 'female_confidence': 0.2714800536632538, 'male_confidence': 0.7285199761390686}\n"
     ]
    }
   ],
   "source": [
    "import json\n",
    "for file in json_files:\n",
    "    with open(file, \"r\") as f:\n",
    "        data = json.load(f)\n",
    "        at = data[0]['attribute']\n",
    "        print(at)\n",
    "        \n",
    "        tmp = file.split(\"\\\\\")\n",
    "        with open(r'C:\\Users\\alchera\\Desktop\\test\\Q2-2./{}_attribute.json'.format(tmp[6][:-5]),'w') as f:\n",
    "              json.dump(at, f, ensure_ascii=False, indent=4)\n",
    "       "
   ]
  },
  {
   "cell_type": "code",
   "execution_count": null,
   "id": "022d5d32",
   "metadata": {},
   "outputs": [],
   "source": []
  }
 ],
 "metadata": {
  "kernelspec": {
   "display_name": "Python 3 (ipykernel)",
   "language": "python",
   "name": "python3"
  },
  "language_info": {
   "codemirror_mode": {
    "name": "ipython",
    "version": 3
   },
   "file_extension": ".py",
   "mimetype": "text/x-python",
   "name": "python",
   "nbconvert_exporter": "python",
   "pygments_lexer": "ipython3",
   "version": "3.9.7"
  }
 },
 "nbformat": 4,
 "nbformat_minor": 5
}
