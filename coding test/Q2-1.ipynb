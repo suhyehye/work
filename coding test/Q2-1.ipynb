{
 "cells": [
  {
   "cell_type": "code",
   "execution_count": 1,
   "id": "315d66dd",
   "metadata": {},
   "outputs": [],
   "source": [
    "#파일 복사\n",
    "import os\n",
    "import shutil\n",
    "\n",
    "imgDirPath = r\"C:\\Users\\alchera\\Downloads\\Python_coding_test\\Q2-1\"\n",
    "saveDirPath = r\"C:\\Users\\alchera\\Desktop\\test\\Q2\"\n",
    "\n",
    "files = os.listdir(imgDirPath)\n",
    "\n",
    "for file in files:\n",
    "    fname, ext = os.path.splitext(file)\n",
    "    fPath = os.path.join(imgDirPath, file)\n",
    "    if os.path.isfile(fPath):\n",
    "        f = open(fPath, \"r\", encoding=\"utf-8\")\n",
    "        className = \"\"\n",
    "        newImgName = fname + ext\n",
    "\n",
    "        oriImagePath = os.path.join(imgDirPath, fname + ext)\n",
    "        newImagePath = os.path.join(saveDirPath, newImgName)\n",
    "\n",
    "        shutil.copy2(oriImagePath, newImagePath)\n"
   ]
  },
  {
   "cell_type": "code",
   "execution_count": 2,
   "id": "b0e7650c",
   "metadata": {},
   "outputs": [],
   "source": [
    "#빈 폴더 삭제\n",
    "os.remove(r'C:\\Users\\alchera\\Desktop\\test\\Q2\\00002.txt')\n",
    "os.remove(r'C:\\Users\\alchera\\Desktop\\test\\Q2\\00012.txt')"
   ]
  },
  {
   "cell_type": "code",
   "execution_count": 3,
   "id": "cef5b768",
   "metadata": {},
   "outputs": [],
   "source": [
    "os.remove(r'C:\\Users\\alchera\\Desktop\\test\\Q2\\00014.txt')"
   ]
  },
  {
   "cell_type": "code",
   "execution_count": 4,
   "id": "f2067e7f",
   "metadata": {},
   "outputs": [],
   "source": [
    "os.remove(r'C:\\Users\\alchera\\Desktop\\test\\Q2\\00015.txt')"
   ]
  },
  {
   "cell_type": "code",
   "execution_count": 5,
   "id": "39350c42",
   "metadata": {},
   "outputs": [],
   "source": [
    "import os\n",
    "\n",
    "dir_path = r\"C:\\Users\\alchera\\Desktop\\test\\Q2/tmp/temp_dir\"\n",
    "\n",
    "if os.path.exists(dir_path):\n",
    "    os.rmdir(dir_path)"
   ]
  },
  {
   "cell_type": "code",
   "execution_count": 6,
   "id": "20a2e005",
   "metadata": {},
   "outputs": [],
   "source": [
    "import glob\n",
    "import json\n",
    "import os\n",
    "import pandas as pd\n",
    "\n",
    "class_list = []\n",
    "File_List = glob.glob(r'C:\\Users\\alchera\\Desktop\\test\\Q2/*.txt')\n",
    "for i in File_List:\n",
    "    data = pd.read_csv(i,header=None)\n",
    "    value = data.iloc[:,1].values.tolist()\n",
    "    class_list.append(value)\n",
    "\n",
    "\n"
   ]
  },
  {
   "cell_type": "code",
   "execution_count": 7,
   "id": "d35e842e",
   "metadata": {},
   "outputs": [
    {
     "name": "stdout",
     "output_type": "stream",
     "text": [
      "['Papule&pustule', 'Whitehead', 'Papule&pustule', 'ambiguous_pigmentation', 'ambiguous_pigmentation', 'ambiguous_pigmentation', 'ambiguous_pigmentation', 'ambiguous_pigmentation', 'Papule&pustule', 'ambiguous_pigmentation', 'ambiguous_pigmentation', 'Papule&pustule', 'Papule&pustule', 'ambiguous_whitehead', 'ambiguous_pigmentation', 'Papule&pustule', 'Papule&pustule', 'ambiguous_whitehead', 'ambiguous_pigmentation', 'Papule&pustule', 'Papule&pustule', 'ambiguous_whitehead', 'ambiguous_pigmentation', 'Papule&pustule', 'Papule&pustule', 'Papule&pustule', 'Papule&pustule', 'Papule&pustule', 'Papule&pustule', 'Papule&pustule', 'Papule&pustule', 'Papule&pustule', 'Papule&pustule', 'Papule&pustule', 'Papule&pustule', 'Papule&pustule', 'Papule&pustule', 'ambiguous_whitehead', 'ambiguous_pigmentation', 'Papule&pustule', 'Papule&pustule', 'ambiguous_pigmentation', 'ambiguous_pigmentation', 'ambiguous_pigmentation', 'ambiguous_pigmentation', 'ambiguous_pigmentation']\n"
     ]
    }
   ],
   "source": [
    "#2차원 리스트를 1차원으로 변경해줌\n",
    "\n",
    "my_list = sum(class_list, [])\n",
    "print(my_list)\n"
   ]
  },
  {
   "cell_type": "code",
   "execution_count": 8,
   "id": "38c1b389",
   "metadata": {},
   "outputs": [
    {
     "name": "stdout",
     "output_type": "stream",
     "text": [
      "Counter({'Papule&pustule': 25, 'ambiguous_pigmentation': 16, 'ambiguous_whitehead': 4, 'Whitehead': 1})\n"
     ]
    }
   ],
   "source": [
    "# 리스트 내의 개수 카운트\n",
    "\n",
    "from collections import Counter\n",
    "\n",
    "counter = Counter(my_list)\n",
    "print(counter)\n"
   ]
  },
  {
   "cell_type": "code",
   "execution_count": null,
   "id": "285320ef",
   "metadata": {},
   "outputs": [],
   "source": []
  }
 ],
 "metadata": {
  "kernelspec": {
   "display_name": "Python 3 (ipykernel)",
   "language": "python",
   "name": "python3"
  },
  "language_info": {
   "codemirror_mode": {
    "name": "ipython",
    "version": 3
   },
   "file_extension": ".py",
   "mimetype": "text/x-python",
   "name": "python",
   "nbconvert_exporter": "python",
   "pygments_lexer": "ipython3",
   "version": "3.9.7"
  }
 },
 "nbformat": 4,
 "nbformat_minor": 5
}
